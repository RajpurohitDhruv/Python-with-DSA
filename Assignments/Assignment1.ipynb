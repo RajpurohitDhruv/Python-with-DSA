{
 "cells": [
  {
   "cell_type": "code",
   "execution_count": null,
   "id": "016fb6bc-423f-411a-b576-527b2d5a1dba",
   "metadata": {},
   "outputs": [],
   "source": [
    "Q.1"
   ]
  },
  {
   "cell_type": "code",
   "execution_count": 1,
   "id": "8168cf83-ce5d-4503-95b4-6921e3d9f6c8",
   "metadata": {},
   "outputs": [],
   "source": [
    "s = \"Dhruv\"\n",
    "a = [ 10,5.0,2]\n",
    "f = 10.5\n",
    "tupple = ( 1,2,3)"
   ]
  },
  {
   "cell_type": "code",
   "execution_count": 5,
   "id": "1dc4dfa1-5ebb-4333-81dc-6349834c0a9f",
   "metadata": {},
   "outputs": [
    {
     "data": {
      "text/plain": [
       "'Dhruv'"
      ]
     },
     "execution_count": 5,
     "metadata": {},
     "output_type": "execute_result"
    }
   ],
   "source": [
    "s"
   ]
  },
  {
   "cell_type": "code",
   "execution_count": null,
   "id": "4b5c7b09-cf30-47be-91d9-ec3aa83813fd",
   "metadata": {},
   "outputs": [],
   "source": [
    "Q.2"
   ]
  },
  {
   "cell_type": "code",
   "execution_count": 13,
   "id": "6bb6db50-249f-4144-b7bd-319989b235b2",
   "metadata": {},
   "outputs": [],
   "source": [
    "var1 = ''\n",
    "var2 = '[ DS , ML , Python]'\n",
    "var3 = [ 'DS' , 'ML' , 'Python' ]\n",
    "var4 = 1."
   ]
  },
  {
   "cell_type": "code",
   "execution_count": 17,
   "id": "725ba667-a3cc-4587-b3e1-3be7a7ddc205",
   "metadata": {},
   "outputs": [
    {
     "data": {
      "text/plain": [
       "str"
      ]
     },
     "execution_count": 17,
     "metadata": {},
     "output_type": "execute_result"
    }
   ],
   "source": [
    "type(var1)"
   ]
  },
  {
   "cell_type": "code",
   "execution_count": 16,
   "id": "99c8006a-7c37-403d-8a0d-1715c923dc53",
   "metadata": {},
   "outputs": [
    {
     "data": {
      "text/plain": [
       "str"
      ]
     },
     "execution_count": 16,
     "metadata": {},
     "output_type": "execute_result"
    }
   ],
   "source": [
    "type(var2)"
   ]
  },
  {
   "cell_type": "code",
   "execution_count": 18,
   "id": "7a5d7888-7046-4964-a02c-80cdc2c191e7",
   "metadata": {},
   "outputs": [
    {
     "data": {
      "text/plain": [
       "list"
      ]
     },
     "execution_count": 18,
     "metadata": {},
     "output_type": "execute_result"
    }
   ],
   "source": [
    "type(var3)"
   ]
  },
  {
   "cell_type": "code",
   "execution_count": 19,
   "id": "b4ed066b-7004-4637-946b-4face486d147",
   "metadata": {},
   "outputs": [
    {
     "data": {
      "text/plain": [
       "float"
      ]
     },
     "execution_count": 19,
     "metadata": {},
     "output_type": "execute_result"
    }
   ],
   "source": [
    "type(var4)"
   ]
  },
  {
   "cell_type": "code",
   "execution_count": null,
   "id": "9d45e03d-21b5-4806-bd74-1dfaf9b51e3d",
   "metadata": {},
   "outputs": [],
   "source": [
    "Q.3"
   ]
  },
  {
   "cell_type": "code",
   "execution_count": 20,
   "id": "3353d538-6262-4e24-a395-394c0b68f58c",
   "metadata": {},
   "outputs": [],
   "source": [
    "c = 10/2"
   ]
  },
  {
   "cell_type": "code",
   "execution_count": 21,
   "id": "72e69c03-11b5-49cd-b2ca-aec5861c5aa6",
   "metadata": {},
   "outputs": [
    {
     "data": {
      "text/plain": [
       "5.0"
      ]
     },
     "execution_count": 21,
     "metadata": {},
     "output_type": "execute_result"
    }
   ],
   "source": [
    "c"
   ]
  },
  {
   "cell_type": "code",
   "execution_count": 22,
   "id": "d35a7156-7bdb-4b45-bc51-e29097498115",
   "metadata": {},
   "outputs": [],
   "source": [
    "a = 10 % 2"
   ]
  },
  {
   "cell_type": "code",
   "execution_count": 23,
   "id": "2fb48d39-12db-42fe-8e98-0edf3cbf5cb5",
   "metadata": {},
   "outputs": [
    {
     "data": {
      "text/plain": [
       "0"
      ]
     },
     "execution_count": 23,
     "metadata": {},
     "output_type": "execute_result"
    }
   ],
   "source": [
    "a"
   ]
  },
  {
   "cell_type": "code",
   "execution_count": 28,
   "id": "97bf6a1b-e9ba-4789-b530-5bd8785a0fd3",
   "metadata": {},
   "outputs": [],
   "source": [
    "b = 10 //5"
   ]
  },
  {
   "cell_type": "code",
   "execution_count": 29,
   "id": "c4756ff1-99e6-4885-b8ac-60e520d8b9aa",
   "metadata": {},
   "outputs": [
    {
     "data": {
      "text/plain": [
       "2"
      ]
     },
     "execution_count": 29,
     "metadata": {},
     "output_type": "execute_result"
    }
   ],
   "source": [
    "b"
   ]
  },
  {
   "cell_type": "code",
   "execution_count": 26,
   "id": "4b576a88-ccda-41a5-b9fa-071d8a8f7dd8",
   "metadata": {},
   "outputs": [],
   "source": [
    "d = 2**5"
   ]
  },
  {
   "cell_type": "code",
   "execution_count": 27,
   "id": "4888a8da-9495-4ec8-9af0-20793d5e132f",
   "metadata": {},
   "outputs": [
    {
     "data": {
      "text/plain": [
       "32"
      ]
     },
     "execution_count": 27,
     "metadata": {},
     "output_type": "execute_result"
    }
   ],
   "source": [
    "d"
   ]
  },
  {
   "cell_type": "code",
   "execution_count": null,
   "id": "c7f2faff-ad7d-4627-b5c4-36ba913fc72e",
   "metadata": {},
   "outputs": [],
   "source": [
    "Q.4 "
   ]
  },
  {
   "cell_type": "code",
   "execution_count": 32,
   "id": "d718a7c1-f618-4ee2-b2b2-1e86031d9d17",
   "metadata": {},
   "outputs": [
    {
     "name": "stdout",
     "output_type": "stream",
     "text": [
      "Element: 1   Data type: <class 'int'>\n",
      "Element: 2.0   Data type: <class 'float'>\n",
      "Element: (5+6j)   Data type: <class 'complex'>\n",
      "Element: Dhruv   Data type: <class 'str'>\n"
     ]
    }
   ],
   "source": [
    "element =[ 1,2.0, 5+6j, 'Dhruv']\n",
    "for element in element:\n",
    "    print(f\"Element: {element}   Data type: {type(element)}\")\n"
   ]
  },
  {
   "cell_type": "code",
   "execution_count": null,
   "id": "2767ad3b-7f06-4416-90c1-33012d179c8f",
   "metadata": {},
   "outputs": [],
   "source": [
    "Q.5"
   ]
  },
  {
   "cell_type": "code",
   "execution_count": 36,
   "id": "77d5099a-bd44-4765-808b-7a2561b72a4b",
   "metadata": {},
   "outputs": [
    {
     "name": "stdin",
     "output_type": "stream",
     "text": [
      " 8\n",
      " 2\n"
     ]
    },
    {
     "name": "stdout",
     "output_type": "stream",
     "text": [
      "Number is not divisible by b\n"
     ]
    }
   ],
   "source": [
    "a =int(input())\n",
    "b =int(input())\n",
    "count=0\n",
    "while a%b==0 :\n",
    "    count+=1\n",
    "    a//=b\n",
    "if a%b==0:\n",
    "    print(\"Number a is divisible by b and it is divisible {count} times\")\n",
    "else:\n",
    "    print(\"Number is not divisible by b\")"
   ]
  },
  {
   "cell_type": "code",
   "execution_count": null,
   "id": "a3d5a256-5b99-41e7-adbd-cc36fbc0aa16",
   "metadata": {},
   "outputs": [],
   "source": [
    "Q.6"
   ]
  },
  {
   "cell_type": "code",
   "execution_count": 42,
   "id": "f74e1371-c09f-4206-aaeb-9ce4073eef4d",
   "metadata": {},
   "outputs": [
    {
     "name": "stdout",
     "output_type": "stream",
     "text": [
      "1 is not divisible by 3.\n",
      "2 is not divisible by 3.\n",
      "3 is divisible by 3.\n",
      "4 is not divisible by 3.\n",
      "5 is not divisible by 3.\n",
      "6 is divisible by 3.\n",
      "7 is not divisible by 3.\n",
      "8 is not divisible by 3.\n",
      "9 is divisible by 3.\n",
      "10 is not divisible by 3.\n",
      "11 is not divisible by 3.\n",
      "12 is divisible by 3.\n",
      "13 is not divisible by 3.\n",
      "14 is not divisible by 3.\n",
      "15 is divisible by 3.\n",
      "16 is not divisible by 3.\n",
      "17 is not divisible by 3.\n",
      "18 is divisible by 3.\n",
      "19 is not divisible by 3.\n",
      "20 is not divisible by 3.\n",
      "21 is divisible by 3.\n",
      "22 is not divisible by 3.\n",
      "23 is not divisible by 3.\n",
      "24 is divisible by 3.\n",
      "25 is not divisible by 3.\n"
     ]
    }
   ],
   "source": [
    "l = [number for number in range(1,26)]\n",
    "for number in l :\n",
    "    if number%3==0 :\n",
    "        print(f\"{number} is divisible by 3.\")\n",
    "    else:\n",
    "        print(f\"{number} is not divisible by 3.\")"
   ]
  },
  {
   "cell_type": "code",
   "execution_count": null,
   "id": "3b6ec786-df54-480f-a710-6813a44fdf63",
   "metadata": {},
   "outputs": [],
   "source": [
    "Q.7"
   ]
  }
 ],
 "metadata": {
  "kernelspec": {
   "display_name": "Python 3 (ipykernel)",
   "language": "python",
   "name": "python3"
  },
  "language_info": {
   "codemirror_mode": {
    "name": "ipython",
    "version": 3
   },
   "file_extension": ".py",
   "mimetype": "text/x-python",
   "name": "python",
   "nbconvert_exporter": "python",
   "pygments_lexer": "ipython3",
   "version": "3.10.8"
  }
 },
 "nbformat": 4,
 "nbformat_minor": 5
}
